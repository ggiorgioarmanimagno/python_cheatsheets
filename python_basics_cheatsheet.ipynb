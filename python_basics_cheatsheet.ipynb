{
 "cells": [
  {
   "cell_type": "markdown",
   "id": "d7e87c94-b6fd-47d0-aa2d-bb6fe01a6fee",
   "metadata": {},
   "source": [
    "# Python Basics Cheatsheet"
   ]
  },
  {
   "cell_type": "markdown",
   "id": "5cdda60a-554d-46b8-b10c-92b5c4b81eaa",
   "metadata": {},
   "source": [
    "This cheat sheet covers Python syntax, variables, types, basic operations, operators, and conditional statements. Perfect for beginners or as a quick refresher for experienced programmers, it provides clear examples to help you quickly recall Python's fundamental concepts and streamline your coding tasks."
   ]
  },
  {
   "cell_type": "markdown",
   "id": "8648024d-f0e9-4057-9ea0-b9b445fce1aa",
   "metadata": {},
   "source": [
    "## Python Hello World Program"
   ]
  },
  {
   "cell_type": "markdown",
   "id": "fdf93088-b9d1-4917-a9f6-fb09a95215e8",
   "metadata": {},
   "source": [
    "**\"Hello, World!\"** is a basic program that displays the message \"Hello, World!\" on the screen. It's commonly used to introduce beginners to a new programming language."
   ]
  },
  {
   "cell_type": "code",
   "execution_count": 1,
   "id": "6d6e6d27-6ded-4b0d-a9ea-f3510ec68f53",
   "metadata": {},
   "outputs": [
    {
     "name": "stdout",
     "output_type": "stream",
     "text": [
      "Hello World!\n"
     ]
    }
   ],
   "source": [
    "print(\"Hello World!\")"
   ]
  },
  {
   "cell_type": "markdown",
   "id": "2846c9a3-fc41-4184-9060-f3a0473b4196",
   "metadata": {},
   "source": [
    "Congratulations! You've just written your first program in Python.\n",
    "\n",
    "Let's break down the print() function in Python:\n",
    "1. **`print()`** is a built-in function in Python, available by default without needing to import anything. It tells Python to display whatever is inside the parentheses. Python recognizes **`print`** as a function because of the presence of parentheses that follow it.\n",
    "2. The **print()** function's parentheses contain a sequence of characters — **'Hello, World!'** — enclosed in either single **'** or double **\"** quotation marks. Any characters inside quotation marks are referred to as a string."
   ]
  },
  {
   "cell_type": "markdown",
   "id": "45f46149-3d94-4500-9ed9-e0d1f4c69b13",
   "metadata": {},
   "source": [
    "## Python Comments"
   ]
  },
  {
   "cell_type": "markdown",
   "id": "83e86a41-9b8d-49d6-8cc8-6b0c70d086af",
   "metadata": {},
   "source": [
    "Comments serve multiple purposes in Python code:\n",
    "\n",
    "1. They explain the code's functionality.\n",
    "2. They enhance code readability.\n",
    "3. They can temporarily disable code execution during testing.\n",
    "\n",
    "The Python interpreter disregards comments, focusing solely on executable code. Since comments don't execute, they don't appear in program output. They're solely for human comprehension within the source code."
   ]
  },
  {
   "cell_type": "markdown",
   "id": "5b6b16ea-5e8d-4378-ba48-a0c34d6a9191",
   "metadata": {},
   "source": [
    "#### Single-line Comments"
   ]
  },
  {
   "cell_type": "markdown",
   "id": "b1c5f55c-4a66-4f5f-9a33-afa2274b8b2b",
   "metadata": {},
   "source": [
    "These are comments that span only one line and are typically used for short annotations or explanations. They start with the **#** symbol and extend to the end of the line."
   ]
  },
  {
   "cell_type": "code",
   "execution_count": null,
   "id": "c8fbc351-47b9-4ee3-b121-d69ab51743b5",
   "metadata": {},
   "outputs": [],
   "source": [
    "# This is a single-line comment"
   ]
  },
  {
   "cell_type": "markdown",
   "id": "c63ce63b-fe18-4063-a594-a7358eab762e",
   "metadata": {},
   "source": [
    "#### Inline Comments"
   ]
  },
  {
   "cell_type": "markdown",
   "id": "0cb6ce41-d7b7-409f-96ae-fb5b678a6484",
   "metadata": {},
   "source": [
    "These comments are placed on the same line as the code they are commenting on. They provide brief explanations directly beside the relevant code.\n",
    "\n",
    "It's generally recommended to separate an inline comment from the statement it annotates by at least two spaces. This format enhances readability by clearly distinguishing the comment from the associated code."
   ]
  },
  {
   "cell_type": "code",
   "execution_count": null,
   "id": "29a9e715-80f0-48cc-9c45-d6fac5a0b524",
   "metadata": {},
   "outputs": [],
   "source": [
    "x = 5  # Assigning the value 5 to the variable x"
   ]
  },
  {
   "cell_type": "markdown",
   "id": "94e071d8-607b-4093-b269-7ceafc392839",
   "metadata": {},
   "source": [
    "#### Multiple-line Comments:"
   ]
  },
  {
   "cell_type": "markdown",
   "id": "e943f00d-cab2-44f2-80bb-ab342a7f5cc4",
   "metadata": {},
   "source": [
    "Although Python doesn't have a built-in syntax specifically for multi-line comments, you can use multi-line strings (enclosed within triple quotesv either **'''** or **\"\"\"**) as a workaround. These comments can span multiple lines and are often used for longer explanations or commenting out blocks of code temporarily.\n",
    "\n",
    "It's worth noting that these multi-line comments are technically just multi-line strings and aren't treated as comments by the interpreter. They are, however, a common convention for creating multi-line comments in Python."
   ]
  },
  {
   "cell_type": "code",
   "execution_count": null,
   "id": "fd11f984-c73c-409a-86ba-d5ff2ca7e87e",
   "metadata": {},
   "outputs": [],
   "source": [
    "\"\"\"\n",
    "This is a\n",
    "multi-line\n",
    "comment\n",
    "\"\"\""
   ]
  },
  {
   "cell_type": "code",
   "execution_count": null,
   "id": "79c35dd5-adc3-4904-86ca-96322b8faa56",
   "metadata": {},
   "outputs": [],
   "source": [
    "'''\n",
    "This is also a\n",
    "multi-line\n",
    "comment\n",
    "'''"
   ]
  },
  {
   "cell_type": "markdown",
   "id": "67907828-6ae3-4123-88e1-9724190bf889",
   "metadata": {},
   "source": [
    "## Python Variables"
   ]
  },
  {
   "cell_type": "markdown",
   "id": "339cbc9e-4ed8-4891-8fbc-843cd9ac453d",
   "metadata": {},
   "source": [
    "A variable, also known as an identifier, is a named location in the computer's memory used to store data. Think of it as a container that holds a value, which can be changed throughout the program. Mnemonic variables, which are easily remembered and associated, are recommended in many programming languages. Essentially, a variable is a reference to a memory address where data is stored."
   ]
  },
  {
   "cell_type": "markdown",
   "id": "e5f767fc-8a37-47c4-9400-88bb4173aff3",
   "metadata": {},
   "source": [
    "#### Variable Naming"
   ]
  },
  {
   "cell_type": "markdown",
   "id": "9e42fcd6-5f4a-4cc0-82e6-e766ce4a4fa7",
   "metadata": {},
   "source": [
    "Rules for naming variables in Python:\n",
    "\n",
    "1. A variable name must begin with a letter (a-z or A-Z) or an underscore (_).\n",
    "2. It cannot start with a number (0-9).\n",
    "3. Variable names can only contain alphanumeric characters (a-z, A-Z, 0-9) and underscores (_).\n",
    "4. Variable names are case-sensitive, meaning lowercase and uppercase letters are considered distinct (e.g. `employeename`, `EmployeeName`, `EMPLOYEENAME` are different variables).\n",
    "5. It is recommended to use lowercase letters for variable names.\n",
    "6. Use snake_case for variable names where variable names are written in lowercase, and words are separated by underscores (e.g. `employee_name`, `total_salary`, `user_id`)\n",
    "7. Avoid using keywords or reserved words that have predefined meanings in Python. These keywords are part of Python's syntax and are used for specific purposes, so using them as variable names can lead to syntax errors or unexpected behavior in your code (`if`, `else`, `for`, `while`, `def`, `class`, `import`, `return`, etc)"
   ]
  },
  {
   "cell_type": "markdown",
   "id": "8a3e0695-dc51-458f-8800-b3a3f0a7a29c",
   "metadata": {},
   "source": [
    "##### Valid Variable Names:\n",
    "- `my_variable`\n",
    "- `_variable`\n",
    "- `variable123`\n",
    "- `variable_name`\n",
    "- `myVariable`\n",
    "\n",
    "##### Invalid Variable Names:\n",
    "- `123variable` (starts with a number)\n",
    "- `variable-name` (contains a hyphen)\n",
    "- `my variable` (contains a space)\n",
    "- `class` (reserved keyword)\n",
    "- `for` (reserved keyword)"
   ]
  },
  {
   "cell_type": "markdown",
   "id": "a8e200f0-ba3e-47af-880f-4ada2206dcf7",
   "metadata": {},
   "source": [
    "##### List all Python keywords / reserved words"
   ]
  },
  {
   "cell_type": "code",
   "execution_count": 4,
   "id": "1110eea2-980b-405b-ac41-38bebab44eb5",
   "metadata": {},
   "outputs": [
    {
     "data": {
      "text/plain": [
       "['False',\n",
       " 'None',\n",
       " 'True',\n",
       " 'and',\n",
       " 'as',\n",
       " 'assert',\n",
       " 'async',\n",
       " 'await',\n",
       " 'break',\n",
       " 'class',\n",
       " 'continue',\n",
       " 'def',\n",
       " 'del',\n",
       " 'elif',\n",
       " 'else',\n",
       " 'except',\n",
       " 'finally',\n",
       " 'for',\n",
       " 'from',\n",
       " 'global',\n",
       " 'if',\n",
       " 'import',\n",
       " 'in',\n",
       " 'is',\n",
       " 'lambda',\n",
       " 'nonlocal',\n",
       " 'not',\n",
       " 'or',\n",
       " 'pass',\n",
       " 'raise',\n",
       " 'return',\n",
       " 'try',\n",
       " 'while',\n",
       " 'with',\n",
       " 'yield']"
      ]
     },
     "execution_count": 4,
     "metadata": {},
     "output_type": "execute_result"
    }
   ],
   "source": [
    "import keyword\n",
    "keyword.kwlist"
   ]
  },
  {
   "cell_type": "markdown",
   "id": "486b6d78-8c07-42fb-a955-bd7a4617c993",
   "metadata": {},
   "source": [
    "Ensure that your variable names follow the naming rules to avoid syntax errors in your Python code."
   ]
  },
  {
   "cell_type": "markdown",
   "id": "074e272d-0e27-4d5a-b437-93c1d10849b1",
   "metadata": {},
   "source": [
    "#### Variable Assignment"
   ]
  },
  {
   "cell_type": "markdown",
   "id": "676d6e92-d460-4471-a8e9-d01c027c37e0",
   "metadata": {},
   "source": [
    "Use the assignment operator **`=`** to assign a value to a variable."
   ]
  },
  {
   "cell_type": "markdown",
   "id": "6fc794d1-d8a0-4c46-9f4b-2ddc774b90de",
   "metadata": {},
   "source": [
    "##### Basic Assignment\n",
    "Assigning a value to a variable.\n",
    "\n",
    "`variable_name = value`\n",
    "\n",
    "In this syntax:\n",
    "- `variable_name` is the name of the variable you want to assign a value to.\n",
    "- `value` is the data you want to store in the variable.\n",
    "\n",
    "For example:"
   ]
  },
  {
   "cell_type": "code",
   "execution_count": 5,
   "id": "12c775fc-c042-4bf3-a907-e0a845ebd645",
   "metadata": {},
   "outputs": [],
   "source": [
    "name = 'Gio'\n",
    "age = 24\n",
    "is_ds = True\n",
    "salary = 100000.50"
   ]
  },
  {
   "cell_type": "code",
   "execution_count": 8,
   "id": "25d75f96-5796-4a72-a1bb-9acf8db5d11d",
   "metadata": {},
   "outputs": [
    {
     "name": "stdout",
     "output_type": "stream",
     "text": [
      "Gio\n",
      "24\n",
      "True\n",
      "100000.5\n"
     ]
    }
   ],
   "source": [
    "print(name)\n",
    "print(age)\n",
    "print(is_ds)\n",
    "print(salary)"
   ]
  },
  {
   "cell_type": "markdown",
   "id": "ee259af6-5594-49ad-8da3-0dec099a7c35",
   "metadata": {},
   "source": [
    "In the above code snippet, `name`, `age`, `is_ds`, and `salary` are variables, and `'Gio'`, `24`, `True` and `100000.50` are their corresponding values."
   ]
  },
  {
   "cell_type": "markdown",
   "id": "96ff0551-6849-4785-8b4c-86e63cbbd1e9",
   "metadata": {},
   "source": [
    "##### Multiple Assignment\n",
    "Assigning multiple values to multiple variables in a single line.\n",
    "\n",
    "`var1`, `var2`, `var3` = `value1`, `value2`, `value3`\n",
    "\n",
    "For example:"
   ]
  },
  {
   "cell_type": "code",
   "execution_count": 6,
   "id": "5e202953-fd90-4c13-95dc-b540e4c600d8",
   "metadata": {},
   "outputs": [],
   "source": [
    "name, age, is_ds, salary = 'Gio', 24, True, 100000.50"
   ]
  },
  {
   "cell_type": "code",
   "execution_count": 9,
   "id": "290fa23c-1899-42cc-b53b-396e3c7a829c",
   "metadata": {
    "scrolled": true
   },
   "outputs": [
    {
     "name": "stdout",
     "output_type": "stream",
     "text": [
      "Gio\n",
      "24\n",
      "True\n",
      "100000.5\n"
     ]
    }
   ],
   "source": [
    "print(name)\n",
    "print(age)\n",
    "print(is_ds)\n",
    "print(salary)"
   ]
  },
  {
   "cell_type": "markdown",
   "id": "ad942241-62de-4c1d-8764-bbc07090b686",
   "metadata": {},
   "source": [
    "##### Chained Assignment\n",
    "`var1` = `var2` = `varn` = `value`\n",
    "\n",
    "For example:"
   ]
  },
  {
   "cell_type": "code",
   "execution_count": 22,
   "id": "3a281e0c-0163-4511-9ed9-bf07111b7527",
   "metadata": {},
   "outputs": [
    {
     "name": "stdout",
     "output_type": "stream",
     "text": [
      "Gio\n",
      "Gio\n",
      "Gio\n"
     ]
    }
   ],
   "source": [
    "name1 = name2 =  name3 = \"Gio\"\n",
    "print(name1)\n",
    "print(name2)\n",
    "print(name3)"
   ]
  },
  {
   "cell_type": "markdown",
   "id": "b848665a-89f7-4fa5-92b7-b3bbaa07e380",
   "metadata": {},
   "source": [
    "##### Swap Variables\n",
    "Swapping values between variables.\n",
    "\n",
    "`var1`, `var2` = `var2`, `var1`\n",
    "\n",
    "For example:"
   ]
  },
  {
   "cell_type": "code",
   "execution_count": 15,
   "id": "a3c5b633-2c12-47b3-a9b8-ca0f82803e9b",
   "metadata": {},
   "outputs": [
    {
     "name": "stdout",
     "output_type": "stream",
     "text": [
      "Before swapping:\n",
      "5\n",
      "10\n",
      "\n",
      "After swapping:\n",
      "10\n",
      "5\n"
     ]
    }
   ],
   "source": [
    "a = 5\n",
    "b = 10\n",
    "\n",
    "print('Before swapping:')\n",
    "print(a)\n",
    "print(b)\n",
    "\n",
    "a, b = b, a\n",
    "print('\\nAfter swapping:')\n",
    "print(a)\n",
    "print(b)"
   ]
  },
  {
   "cell_type": "markdown",
   "id": "6da38937-fcd6-4f16-a917-6604f686a6e5",
   "metadata": {},
   "source": [
    "##### Constants Variables\n",
    "Conventionally named in uppercase to indicate that the value should not change, though Python doesn't enforce constantness.\n",
    "\n",
    "`CONSTANT_NAME` = `value`\n",
    "\n",
    "For example:"
   ]
  },
  {
   "cell_type": "code",
   "execution_count": 18,
   "id": "7191d0a9-67ac-4737-860e-04bbb57c4d31",
   "metadata": {},
   "outputs": [],
   "source": [
    "PI = 3.14159\n",
    "GRAVITY = 9.81"
   ]
  },
  {
   "cell_type": "markdown",
   "id": "300c1d5a-f182-4480-b87b-a9df97ab3087",
   "metadata": {},
   "source": [
    "> **NOTE:** In Python, constants are more of a convention rather than a strict rule, as you can technically modify a constant's value if you really want to. It's a good practice to treat these variables as constants and avoid changing their values throughout your program.\n",
    "\n",
    "\n",
    "\n",
    "\n",
    "\n",
    "\n"
   ]
  },
  {
   "cell_type": "markdown",
   "id": "d16fc2ef-b0fa-4a2a-980b-7ac4fc7c914e",
   "metadata": {},
   "source": [
    "#### Variable Reassignment"
   ]
  },
  {
   "cell_type": "markdown",
   "id": "da9592b0-99e0-41b1-b445-7e12bcf3727a",
   "metadata": {},
   "source": [
    "You can change the value of a variable at any time by assigning it a new value."
   ]
  },
  {
   "cell_type": "code",
   "execution_count": 24,
   "id": "f77dec24-b0ea-4866-9fd3-a6d76cd31a34",
   "metadata": {},
   "outputs": [
    {
     "name": "stdout",
     "output_type": "stream",
     "text": [
      "10\n"
     ]
    }
   ],
   "source": [
    "x = 5\n",
    "x = 10 \n",
    "print(x)"
   ]
  },
  {
   "cell_type": "markdown",
   "id": "6329f9e9-6333-4869-b8fd-9d6889102dd5",
   "metadata": {},
   "source": [
    "#### Variable Types"
   ]
  },
  {
   "cell_type": "markdown",
   "id": "16646dff-418e-4d56-8365-1d5f435c849b",
   "metadata": {},
   "source": [
    "In Python, we don't need to specify the type of a variable because Python is a type-inferencing language and is smart enough to determine the variable type."
   ]
  },
  {
   "cell_type": "markdown",
   "id": "6b37c9ee-9851-43da-899a-36e6a85e4ba5",
   "metadata": {},
   "source": [
    "## type() function"
   ]
  },
  {
   "cell_type": "markdown",
   "id": "335181c4-bcbc-461b-9d58-c8ba3fa1b3e3",
   "metadata": {},
   "source": [
    "The `type()` function in Python is used to determine the data type of a variable or a value. It returns the type of the object passed to it as an argument.\n",
    "\n",
    "`type(object)`\n",
    "\n",
    "- `object`: The object whose type is to be determined.\n"
   ]
  },
  {
   "cell_type": "code",
   "execution_count": 30,
   "id": "bdf4af39-7392-4ded-a050-fae5c89aba9e",
   "metadata": {},
   "outputs": [
    {
     "name": "stdout",
     "output_type": "stream",
     "text": [
      "<class 'str'>\n",
      "<class 'int'>\n",
      "<class 'bool'>\n",
      "<class 'float'>\n"
     ]
    }
   ],
   "source": [
    "name = 'Gio'\n",
    "age = 24\n",
    "is_ds = True\n",
    "salary = 100000.50\n",
    "\n",
    "print(type(name))\n",
    "print(type(age))\n",
    "print(type(is_ds))\n",
    "print(type(salary))"
   ]
  },
  {
   "cell_type": "markdown",
   "id": "e8af5de0-35d8-413d-a8d1-102c702096be",
   "metadata": {},
   "source": [
    "In this example:\n",
    "\n",
    "- `type(name)` returns `<class 'str'>`, indicating that the variable name is of type string (`str`).\n",
    "- `type(age)` returns `<class 'int'>`, indicating that the variable age is of type string (`int`).\n",
    "- `type(is_ds)` returns `<class 'bool'>`, indicating that the variable is_ds is of type boolean (`bool`)\n",
    "- `type(salary)` returns `<class 'float'>`, indicating that the variable salary is of type float (`float`)"
   ]
  },
  {
   "cell_type": "markdown",
   "id": "4bf48246-b5e7-494b-80a8-30cc2ef19297",
   "metadata": {},
   "source": [
    "## Python Data Types and Common Operations"
   ]
  },
  {
   "cell_type": "markdown",
   "id": "b3a3d4be-39cd-4c4a-baba-83950816bf93",
   "metadata": {},
   "source": [
    "#### Integer (`int`)\n",
    "Represents whole numbers, positive or negative, without any decimal point.\n",
    "\n",
    "Example:"
   ]
  },
  {
   "cell_type": "code",
   "execution_count": 65,
   "id": "b1182ce3-4b39-4556-b912-b8867950dcca",
   "metadata": {},
   "outputs": [
    {
     "name": "stdout",
     "output_type": "stream",
     "text": [
      "<class 'int'>\n",
      "<class 'int'>\n"
     ]
    }
   ],
   "source": [
    "x = 10\n",
    "y = 3\n",
    "\n",
    "print(type(x))\n",
    "print(type(y))"
   ]
  },
  {
   "cell_type": "markdown",
   "id": "16e8ae0f-e4b5-4fce-85cd-49987a9e9aa1",
   "metadata": {},
   "source": [
    "#### Common Operations on Integer (`int`) Data Type"
   ]
  },
  {
   "cell_type": "markdown",
   "id": "904e1aac-c786-405b-905f-f196906f0b36",
   "metadata": {},
   "source": [
    "##### Arithmetic Operations\n",
    "- Addition (`+`)\n",
    "- Subtraction (`-`)\n",
    "- Multiplication (`*`)\n",
    "- Division (`/`)\n",
    "- Exponentiation (`**`)\n",
    "- Modulus (`%`): Returns the remainder of the division of one number by another.\n",
    "- Floor Division (`//`): Returns the quotient of the division, rounded down to the nearest integer."
   ]
  },
  {
   "cell_type": "code",
   "execution_count": 45,
   "id": "b72f3274-b048-4714-81a6-1ce8f1c1833e",
   "metadata": {},
   "outputs": [
    {
     "name": "stdout",
     "output_type": "stream",
     "text": [
      "Addition Result:  13\n",
      "Subtraction Result:  7\n",
      "Multiplication Result:  30\n",
      "Division Result:  3.3333333333333335\n",
      "Exponentiation Result:  1000\n",
      "Modulus Result:  1\n",
      "Floor Division Result:  3\n"
     ]
    }
   ],
   "source": [
    "x = 10\n",
    "y = 3\n",
    "\n",
    "addition_result = x + y          # 10 + 3 = 13\n",
    "subtraction_result = x - y       # 10 - 3 = 7\n",
    "multiplication_result = x * y    # 10 * 3 = 30\n",
    "division_result = x / y          # 10 / 3 = 3.3333333333333335\n",
    "exponentiation_result = x ** y   # 10 ** 3 = 1000\n",
    "modulus_result = x % y           # 10 % 3 = 1\n",
    "floor_division_result = x // y   # 10 // 3 = 3\n",
    "\n",
    "print('Addition Result: ', addition_result)\n",
    "print('Subtraction Result: ', subtraction_result)\n",
    "print('Multiplication Result: ',multiplication_result)\n",
    "print('Division Result: ', division_result)\n",
    "print('Exponentiation Result: ', exponentiation_result)\n",
    "print('Modulus Result: ', modulus_result)\n",
    "print('Floor Division Result: ', floor_division_result)"
   ]
  },
  {
   "cell_type": "markdown",
   "id": "94334f5a-1fb2-4ec1-a3bc-997b52be94af",
   "metadata": {},
   "source": [
    "##### Comparison Operations\n",
    "- Equal to (`==`)\n",
    "- Not equal to (`!=`)\n",
    "- Greater than (`>`)\n",
    "- Less than (`<`)\n",
    "- Greater than or equal to (`>=`)\n",
    "- Less than or equal to (`<=`|)"
   ]
  },
  {
   "cell_type": "code",
   "execution_count": 62,
   "id": "34ae9915-0c0e-47c5-9647-0baa8c56561c",
   "metadata": {},
   "outputs": [
    {
     "name": "stdout",
     "output_type": "stream",
     "text": [
      "Is Equal:  False\n",
      "Is Not Equal:  True\n",
      "Is Greater Than:  True\n",
      "Is Less Than:  False\n",
      "Is Greater Than or Equal:  True\n",
      "Is Less Than or Equal:  False\n"
     ]
    }
   ],
   "source": [
    "x = 10\n",
    "y = 5\n",
    "\n",
    "is_equal = x == y              # False\n",
    "is_not_equal = x != y          # True\n",
    "is_greater_than = x > y        # True\n",
    "is_less_than = x < y           # False\n",
    "is_greater_than_equal = x >= y # True\n",
    "is_less_than_equal = x <= y    # False\n",
    "\n",
    "print('Is Equal: ', is_equal)\n",
    "print('Is Not Equal: ', is_not_equal)\n",
    "print('Is Greater Than: ', is_greater_than)\n",
    "print('Is Less Than: ', is_less_than)\n",
    "print('Is Greater Than or Equal: ', is_greater_than_equal)\n",
    "print('Is Less Than or Equal: ', is_less_than_equal)"
   ]
  },
  {
   "cell_type": "markdown",
   "id": "4687a251-fd1f-4232-8cab-1205e2ec341c",
   "metadata": {},
   "source": [
    "##### Type Conversions\n",
    "- Convert to `float` using `float()`\n",
    "- Convert to `str` using `str()`\n",
    "- Convert to `bool` using `bool()`"
   ]
  },
  {
   "cell_type": "code",
   "execution_count": 63,
   "id": "a1dd5c40-9827-422f-89f0-eb2707a95ce2",
   "metadata": {},
   "outputs": [
    {
     "name": "stdout",
     "output_type": "stream",
     "text": [
      "10.0\n",
      "10\n",
      "True\n"
     ]
    }
   ],
   "source": [
    "x = 10\n",
    "\n",
    "float_x = float(x)      # 10.0\n",
    "str_x = str(x)          # '10'\n",
    "bool_x = bool(x)        # True\n",
    "\n",
    "print(float_x)\n",
    "print(str_x)\n",
    "print(bool_x)"
   ]
  },
  {
   "cell_type": "markdown",
   "id": "bc474a7a-f6d5-453d-a3b2-96a9d0f7a2af",
   "metadata": {},
   "source": [
    "#### String (`str`)\n",
    "Represents a sequence of characters, enclosed within single `'` or double `\"` quotes.\n",
    "\n",
    "Example:"
   ]
  },
  {
   "cell_type": "code",
   "execution_count": 67,
   "id": "c234c588-6e33-4608-9b57-ce7e7436e8aa",
   "metadata": {},
   "outputs": [
    {
     "name": "stdout",
     "output_type": "stream",
     "text": [
      "<class 'str'>\n"
     ]
    }
   ],
   "source": [
    "name = 'Gio'\n",
    "\n",
    "print(type(name))"
   ]
  },
  {
   "cell_type": "markdown",
   "id": "d99f476c-c74b-47b3-a572-167b605d134c",
   "metadata": {},
   "source": [
    "#### Common Operations on String (`str`) Data Type"
   ]
  },
  {
   "cell_type": "markdown",
   "id": "697318b8-ee60-4695-976b-067a64d3b2ec",
   "metadata": {},
   "source": [
    "##### Concatenation\n",
    "Joining strings using the + operator."
   ]
  },
  {
   "cell_type": "code",
   "execution_count": 68,
   "id": "e298d7a4-205d-4372-ab7d-2587c089e1d4",
   "metadata": {},
   "outputs": [
    {
     "name": "stdout",
     "output_type": "stream",
     "text": [
      "Hello World\n"
     ]
    }
   ],
   "source": [
    "str1 = \"Hello\"\n",
    "str2 = \"World\"\n",
    "concatenated_str = str1 + \" \" + str2  # \"Hello World\"\n",
    "\n",
    "print(concatenated_str)"
   ]
  },
  {
   "cell_type": "markdown",
   "id": "78f5d3d1-7cc1-464a-a027-63e4fc03f9ee",
   "metadata": {},
   "source": [
    "##### Slicing\n",
    "Extracting substrings using slice notation (`[start:end:step]`).\n",
    "\n",
    "- `start`: The starting index of the substring (inclusive). If omitted, it defaults to 0.\n",
    "- `end`: The ending index of the substring (exclusive). If omitted, it defaults to the end of the string.\n",
    "- `step`: The step or increment between characters. If omitted, it defaults to 1."
   ]
  },
  {
   "cell_type": "code",
   "execution_count": 70,
   "id": "2e32e0fd-4507-4fbe-8a62-cd4ab6cba4af",
   "metadata": {},
   "outputs": [
    {
     "name": "stdout",
     "output_type": "stream",
     "text": [
      "tho\n"
     ]
    }
   ],
   "source": [
    "# Basic Slicing:\n",
    "# Extract a substring from index 2 to index 5 (not including index 5)\n",
    "\n",
    "my_string = \"Python\"\n",
    "substring = my_string[2:5]  # \"tho\"\n",
    "\n",
    "print(substring)"
   ]
  },
  {
   "cell_type": "code",
   "execution_count": 72,
   "id": "5c861a32-4203-4761-b8e2-e47867d4180f",
   "metadata": {},
   "outputs": [
    {
     "name": "stdout",
     "output_type": "stream",
     "text": [
      "Pyt\n"
     ]
    }
   ],
   "source": [
    "# Omitting Start or End:\n",
    "# If start is omitted, it defaults to the beginning of the string.\n",
    "\n",
    "my_string = \"Python\"\n",
    "substring = my_string[:3]   # \"Pyt\"\n",
    "\n",
    "print(substring)"
   ]
  },
  {
   "cell_type": "code",
   "execution_count": 73,
   "id": "b0ee0755-b772-4c8e-ac68-d5af63a55992",
   "metadata": {},
   "outputs": [
    {
     "name": "stdout",
     "output_type": "stream",
     "text": [
      "hon\n"
     ]
    }
   ],
   "source": [
    "# If end is omitted, it defaults to the end of the string.\n",
    "my_string = \"Python\"\n",
    "substring = my_string[3:]   # \"hon\"\n",
    "\n",
    "print(substring)"
   ]
  },
  {
   "cell_type": "code",
   "execution_count": 74,
   "id": "84f15b02-44b3-4e31-b8b1-3a1b625f14a1",
   "metadata": {},
   "outputs": [
    {
     "name": "stdout",
     "output_type": "stream",
     "text": [
      "Pto\n"
     ]
    }
   ],
   "source": [
    "# Step (Stride) Size:\n",
    "# Specify a step size to extract characters at regular intervals.\n",
    "my_string = \"Python\"\n",
    "substring = my_string[::2]  # \"Pto\"\n",
    "\n",
    "print(substring)"
   ]
  },
  {
   "cell_type": "code",
   "execution_count": 76,
   "id": "120d7996-581a-48b2-bdb3-6e9aa8622bbb",
   "metadata": {},
   "outputs": [
    {
     "name": "stdout",
     "output_type": "stream",
     "text": [
      "nohtyP\n"
     ]
    }
   ],
   "source": [
    "# Reverse the string using a negative step size.\n",
    "my_string = \"Python\"\n",
    "reversed_string = my_string[::-1]  # \"nohtyP\"\n",
    "\n",
    "print(reversed_string)"
   ]
  },
  {
   "cell_type": "markdown",
   "id": "72e866b4-cb40-4122-8ad0-53971ac92018",
   "metadata": {},
   "source": [
    "##### Length\n",
    "Determining the length of a string using the `len()` function."
   ]
  },
  {
   "cell_type": "code",
   "execution_count": 77,
   "id": "8c7ce3e2-a21e-49eb-a8cf-dd3a5821e1b8",
   "metadata": {},
   "outputs": [
    {
     "name": "stdout",
     "output_type": "stream",
     "text": [
      "5\n"
     ]
    }
   ],
   "source": [
    "my_string = \"Hello\"\n",
    "string_length = len(my_string)  # 5\n",
    "\n",
    "print(string_length)"
   ]
  },
  {
   "cell_type": "markdown",
   "id": "fa335c7e-e11a-411c-88ef-a8b3839ea33f",
   "metadata": {},
   "source": [
    "##### Case Conversion\n",
    "Converting case using `upper()`, `lower()`, `capitalize()`, `title()`."
   ]
  },
  {
   "cell_type": "code",
   "execution_count": 79,
   "id": "6eca98fd-19d7-4fbb-a5e6-95c4bcb8a22a",
   "metadata": {},
   "outputs": [
    {
     "name": "stdout",
     "output_type": "stream",
     "text": [
      "HELLO\n",
      "hello\n",
      "Hello\n",
      "Hello\n"
     ]
    }
   ],
   "source": [
    "my_string = \"hello\"\n",
    "upper_case = my_string.upper()        # \"HELLO\"\n",
    "lower_case = my_string.lower()        # \"hello\"\n",
    "capitalized = my_string.capitalize()  # \"Hello\"\n",
    "title_case = my_string.title()        # \"Hello\"\n",
    "\n",
    "print(upper_case)\n",
    "print(lower_case)\n",
    "print(capitalized)\n",
    "print(title_case)"
   ]
  },
  {
   "cell_type": "markdown",
   "id": "b0209d10-5edd-4055-b767-4e61ecbdb5cf",
   "metadata": {},
   "source": [
    "##### Searching:\n",
    "Searching for substrings using `find()`, `index()`, `count()`."
   ]
  },
  {
   "cell_type": "code",
   "execution_count": 82,
   "id": "45bdfd09-e3dc-456b-9ba4-91a6bf0c9739",
   "metadata": {},
   "outputs": [
    {
     "name": "stdout",
     "output_type": "stream",
     "text": [
      "4\n",
      "6\n",
      "3\n"
     ]
    }
   ],
   "source": [
    "my_string = \"hello world\"\n",
    "index_of_o = my_string.find(\"o\")    # 4\n",
    "index_of_w = my_string.index(\"w\")   # 6\n",
    "count_of_l = my_string.count(\"l\")   # 3\n",
    "\n",
    "print(index_of_o)\n",
    "print(index_of_w)\n",
    "print(count_of_l)"
   ]
  },
  {
   "cell_type": "markdown",
   "id": "66efe969-7e05-471e-a235-dc170a29034f",
   "metadata": {},
   "source": [
    "##### Splitting and Joining:\n",
    "Splitting a string into a list of substrings using `split()` and joining a list of strings into a single string using `join()`."
   ]
  },
  {
   "cell_type": "code",
   "execution_count": 83,
   "id": "1686f271-3e1d-4400-912a-7da9776a6a5b",
   "metadata": {},
   "outputs": [
    {
     "name": "stdout",
     "output_type": "stream",
     "text": [
      "['apple', 'banana', 'orange']\n",
      "apple-banana-orange\n"
     ]
    }
   ],
   "source": [
    "my_string = \"apple,banana,orange\"\n",
    "split_list = my_string.split(\",\")    # [\"apple\", \"banana\", \"orange\"]\n",
    "joined_string = \"-\".join(split_list) # \"apple-banana-orange\"\n",
    "\n",
    "print(split_list)\n",
    "print(joined_string)"
   ]
  },
  {
   "cell_type": "markdown",
   "id": "e3e398fb-eebd-4ed5-bf6d-bb701b9da2ff",
   "metadata": {},
   "source": [
    "#### Float (`float`)\n",
    "Represents floating-point numbers, which contain decimal points or use scientific notation.\n",
    "\n",
    "Example:"
   ]
  },
  {
   "cell_type": "code",
   "execution_count": 84,
   "id": "dce4ad6b-784c-491b-b056-d15367549652",
   "metadata": {},
   "outputs": [
    {
     "name": "stdout",
     "output_type": "stream",
     "text": [
      "<class 'float'>\n"
     ]
    }
   ],
   "source": [
    "y = 3.14\n",
    "\n",
    "print(type(y))"
   ]
  },
  {
   "cell_type": "markdown",
   "id": "d0c008ad-39f9-4318-b1e4-61140564411a",
   "metadata": {},
   "source": [
    "#### Common Operations on Float (`float`) Data Type"
   ]
  },
  {
   "cell_type": "markdown",
   "id": "d820fc62-ae74-4bb3-8685-731379d14f46",
   "metadata": {},
   "source": [
    "##### Arithmetic Operations\n",
    "- Addition (`+`)\n",
    "- Subtraction (`-`)\n",
    "- Multiplication (`*`)\n",
    "- Division (`/`)\n",
    "- Exponentiation (`**`)\n",
    "- Modulus (`%`): Returns the remainder of the division of one number by another.\n",
    "- Floor Division (`//`): Returns the quotient of the division, rounded down to the nearest integer."
   ]
  },
  {
   "cell_type": "code",
   "execution_count": 89,
   "id": "81b670d0-bd03-45ed-99bc-a3fd42c50ba6",
   "metadata": {},
   "outputs": [
    {
     "name": "stdout",
     "output_type": "stream",
     "text": [
      "Addition Result:  5.5\n",
      "Subtraction Result:  1.5\n",
      "Multiplication Result:  7.0\n",
      "Division Result:  1.75\n",
      "Exponentiation Result:  12.25\n",
      "Modulus Result:  1.5\n",
      "Floor Division Result:  1.0\n"
     ]
    }
   ],
   "source": [
    "x = 3.5\n",
    "y = 2.0\n",
    "\n",
    "addition_result = x + y          # 3.5 + 2.0 = 5.5\n",
    "subtraction_result = x - y       # 3.5 - 2.0 = 1.5\n",
    "multiplication_result = x * y    # 3.5 * 2.0 = 7.0\n",
    "division_result = x / y          # 3.5 / 2.0 = 1.75\n",
    "exponentiation_result = x ** y   # 3.5 ** 2.0 = 12.25\n",
    "modulus_result = x % y           # 3.5 % 2.0 = 1.5\n",
    "floor_division_result = x // y   # 3.5 // 2.0 =  1.0\n",
    "\n",
    "print('Addition Result: ', addition_result)\n",
    "print('Subtraction Result: ', subtraction_result)\n",
    "print('Multiplication Result: ',multiplication_result)\n",
    "print('Division Result: ', division_result)\n",
    "print('Exponentiation Result: ', exponentiation_result)\n",
    "print('Modulus Result: ', modulus_result)\n",
    "print('Floor Division Result: ', floor_division_result)"
   ]
  },
  {
   "cell_type": "markdown",
   "id": "2e885ad6-3328-444c-8e9a-98fdf5ef1930",
   "metadata": {},
   "source": [
    "##### Comparison Operations\n",
    "- Equal to (`==`)\n",
    "- Not equal to (`!=`)\n",
    "- Greater than (`>`)\n",
    "- Less than (`<`)\n",
    "- Greater than or equal to (`>=`)\n",
    "- Less than or equal to (`<=`|)"
   ]
  },
  {
   "cell_type": "code",
   "execution_count": 92,
   "id": "bc740daa-b8b9-4e22-90cd-db7a6e639f22",
   "metadata": {},
   "outputs": [
    {
     "name": "stdout",
     "output_type": "stream",
     "text": [
      "Is Equal:  False\n",
      "Is Not Equal:  True\n",
      "Is Greater Than:  True\n",
      "Is Less Than:  False\n",
      "Is Greater Than or Equal:  True\n",
      "Is Less Than or Equal:  False\n"
     ]
    }
   ],
   "source": [
    "x = 3.5\n",
    "y = 2.0\n",
    "\n",
    "is_equal = x == y        # False\n",
    "is_not_equal = x != y    # True\n",
    "is_greater_than = x > y  # True\n",
    "is_less_than = x < y     # False\n",
    "is_greater_than_equal = x >= y # True\n",
    "is_less_than_equal = x <= y    # False\n",
    "\n",
    "print('Is Equal: ', is_equal)\n",
    "print('Is Not Equal: ', is_not_equal)\n",
    "print('Is Greater Than: ', is_greater_than)\n",
    "print('Is Less Than: ', is_less_than)\n",
    "print('Is Greater Than or Equal: ', is_greater_than_equal)\n",
    "print('Is Less Than or Equal: ', is_less_than_equal)"
   ]
  },
  {
   "cell_type": "markdown",
   "id": "d6aedf28-6893-41be-ad00-6f4bae49ed89",
   "metadata": {},
   "source": [
    "##### Type Conversion\n",
    "- Convert to int using `int()`\n",
    "- Convert to str using `str()`"
   ]
  },
  {
   "cell_type": "code",
   "execution_count": 93,
   "id": "a0878afa-5529-46a2-806f-3862c07dbe3e",
   "metadata": {},
   "outputs": [
    {
     "name": "stdout",
     "output_type": "stream",
     "text": [
      "3\n",
      "3.5\n"
     ]
    }
   ],
   "source": [
    "x = 3.5\n",
    "\n",
    "int_x = int(x)    # 3\n",
    "str_x = str(x)    # \"3.5\"\n",
    "\n",
    "print(int_x)\n",
    "print(str_x)"
   ]
  },
  {
   "cell_type": "markdown",
   "id": "8c86f14d-73e2-4ef4-86c7-f4ed1a1ed178",
   "metadata": {},
   "source": [
    "##### Rounding\n",
    "Round a float to a specified number of decimal places using `round()`"
   ]
  },
  {
   "cell_type": "code",
   "execution_count": 95,
   "id": "a80750cc-d625-4665-882a-d39975b7b5a6",
   "metadata": {},
   "outputs": [
    {
     "name": "stdout",
     "output_type": "stream",
     "text": [
      "3.57\n"
     ]
    }
   ],
   "source": [
    "x = 3.5678\n",
    "\n",
    "rounded_x = round(x, 2)    # 3.57\n",
    "\n",
    "print(rounded_x)"
   ]
  },
  {
   "cell_type": "markdown",
   "id": "cafc7283-4be2-4d34-b75b-e70c9eebee3f",
   "metadata": {},
   "source": [
    "#### Boolean (`bool`)\n",
    "Represents one of two values: `True` or `False`\n",
    "\n",
    "Example:"
   ]
  },
  {
   "cell_type": "code",
   "execution_count": 98,
   "id": "606be154-d2f7-4131-bb8a-6d3337dd8f17",
   "metadata": {},
   "outputs": [
    {
     "name": "stdout",
     "output_type": "stream",
     "text": [
      "<class 'bool'>\n"
     ]
    }
   ],
   "source": [
    "is_ds = True\n",
    "\n",
    "print(type(is_ds))"
   ]
  },
  {
   "cell_type": "markdown",
   "id": "523d7bd2-2cf7-489f-82b6-f913fe738c62",
   "metadata": {},
   "source": [
    "#### Common Operations on Boolean (`bool`) Data Type"
   ]
  },
  {
   "cell_type": "markdown",
   "id": "a003d47a-37be-4fa4-ad93-71e2ba0c47e0",
   "metadata": {},
   "source": [
    "##### Logical Operations\n",
    "\n",
    "- `and`: Returns `True` if both operands are `True`, otherwise `False`.\n",
    "- `or`: Returns `True` if at least one of the operands is `True`, otherwise `False`.\n",
    "- `not`: Returns the opposite boolean value of the operand."
   ]
  },
  {
   "cell_type": "code",
   "execution_count": 100,
   "id": "2f48b48a-6921-4aee-86c6-af1eb561f499",
   "metadata": {},
   "outputs": [
    {
     "name": "stdout",
     "output_type": "stream",
     "text": [
      "False\n",
      "True\n",
      "False\n"
     ]
    }
   ],
   "source": [
    "x = True\n",
    "y = False\n",
    "\n",
    "result_and = x and y   # False\n",
    "result_or = x or y     # True\n",
    "result_not = not x     # False\n",
    "\n",
    "print(result_and)\n",
    "print(result_or)\n",
    "print(result_not)"
   ]
  },
  {
   "cell_type": "markdown",
   "id": "f189a8d4-57c0-4c1c-898e-09de56589c06",
   "metadata": {},
   "source": [
    "##### Type Conversion\n",
    "- Convert to int using `int()`\n",
    "- Convert to str using `str()`"
   ]
  },
  {
   "cell_type": "code",
   "execution_count": 103,
   "id": "9ab8834b-56d6-47ef-a419-eb6e91d9384e",
   "metadata": {},
   "outputs": [
    {
     "name": "stdout",
     "output_type": "stream",
     "text": [
      "1\n",
      "0\n",
      "True\n",
      "False\n"
     ]
    }
   ],
   "source": [
    "x = True\n",
    "y = False\n",
    "\n",
    "int_x = int(x)    # 1\n",
    "int_y = int(y)    # 0\n",
    "str_x = str(x)    # \"True\"\n",
    "str_y = str(y)    # \"False\"\n",
    "\n",
    "print(int_x)\n",
    "print(int_y)\n",
    "print(str_x)\n",
    "print(str_y)"
   ]
  },
  {
   "cell_type": "markdown",
   "id": "a7f7d3a6-11e8-439f-b13f-effc684ef087",
   "metadata": {},
   "source": [
    "#### List (`list`)\n",
    "Represents an ordered collection of items, which can be of different data types and mutable (modifiable).\n",
    "\n",
    "Example:"
   ]
  },
  {
   "cell_type": "code",
   "execution_count": 104,
   "id": "3f51f3b7-03eb-40fa-a7cf-25d7e782f659",
   "metadata": {},
   "outputs": [
    {
     "name": "stdout",
     "output_type": "stream",
     "text": [
      "<class 'list'>\n"
     ]
    }
   ],
   "source": [
    "numbers = [1, 2, 3, 4, 5]\n",
    "\n",
    "print(type(numbers))"
   ]
  },
  {
   "cell_type": "markdown",
   "id": "dd06301f-40c7-4831-bba6-84d655d4674b",
   "metadata": {},
   "source": [
    "#### Common Operations on Lists (`list`) Data Type"
   ]
  },
  {
   "cell_type": "markdown",
   "id": "81ee8408-6a31-41c1-938b-c486920ba4f8",
   "metadata": {},
   "source": [
    "##### Accessing Elements\n",
    "- Access individual elements using indexing, starting from 0.\n",
    "- Access a range of elements using slicing."
   ]
  },
  {
   "cell_type": "code",
   "execution_count": 8,
   "id": "693ab8e7-57a2-4574-928b-aa39d9d92085",
   "metadata": {},
   "outputs": [
    {
     "name": "stdout",
     "output_type": "stream",
     "text": [
      "1\n",
      "3\n"
     ]
    }
   ],
   "source": [
    "my_list = [1, 2, 3, \"apple\", \"banana\", True]\n",
    "\n",
    "# Accessing individual elements\n",
    "first_element = my_list[0]\n",
    "third_element = my_list[2]\n",
    "\n",
    "print(first_element)\n",
    "print(third_element)"
   ]
  },
  {
   "cell_type": "code",
   "execution_count": 9,
   "id": "40e68e14-fe1c-4176-b35a-b8a6f4c6136d",
   "metadata": {},
   "outputs": [
    {
     "name": "stdout",
     "output_type": "stream",
     "text": [
      "[2, 3, 'apple']\n"
     ]
    }
   ],
   "source": [
    "# Accessing a range of elements\n",
    "sublist = my_list[1:4]  # Returns elements from index 1 to 3\n",
    "\n",
    "print(sublist)"
   ]
  },
  {
   "cell_type": "markdown",
   "id": "add649fb-d427-4454-89c9-ef4769f32a50",
   "metadata": {},
   "source": [
    "##### Adding Elements\n",
    "- `append()`: Add an element to the end of the list.\n",
    "- `insert()`: Add an element at a specific position in the list."
   ]
  },
  {
   "cell_type": "code",
   "execution_count": 10,
   "id": "78f0b435-dcd6-41c6-92d8-d0e4e0f78a05",
   "metadata": {},
   "outputs": [
    {
     "name": "stdout",
     "output_type": "stream",
     "text": [
      "[1, 2, 3, 'apple', 'banana', True, 4]\n",
      "[1, 2, 'orange', 3, 'apple', 'banana', True, 4]\n"
     ]
    }
   ],
   "source": [
    "my_list.append(4)       # Appends 4 to the end of the list\n",
    "print(my_list)\n",
    "\n",
    "my_list.insert(2, \"orange\")  # Inserts \"orange\" at index 2\n",
    "print(my_list)"
   ]
  },
  {
   "cell_type": "markdown",
   "id": "93d11e20-d03f-4370-8691-bb6109441d05",
   "metadata": {},
   "source": [
    "##### Removing Elements\n",
    "- `remove()`: Remove the first occurrence of a specific value.\n",
    "- `pop()`: Remove an element at a specific index.\n",
    "- `clear()`: Remove all elements from the list."
   ]
  },
  {
   "cell_type": "code",
   "execution_count": 11,
   "id": "887cd6cc-dc85-4e04-b22b-71a9fcfe8a15",
   "metadata": {},
   "outputs": [
    {
     "name": "stdout",
     "output_type": "stream",
     "text": [
      "[1, 2, 'orange', 3, 'banana', True, 4]\n",
      "3\n",
      "[]\n"
     ]
    }
   ],
   "source": [
    "my_list.remove(\"apple\")  # Removes the first occurrence of \"apple\"\n",
    "print(my_list)\n",
    "\n",
    "popped_element = my_list.pop(3)  # Removes and returns element at index 3\n",
    "print(popped_element)\n",
    "\n",
    "my_list.clear()           # Removes all elements from the list\n",
    "print(my_list)"
   ]
  },
  {
   "cell_type": "markdown",
   "id": "c2c28d05-2270-4ef7-8e38-a9328bbc5f0a",
   "metadata": {},
   "source": [
    "##### Updating Elements\n",
    "- Assign new values to specific elements using indexing."
   ]
  },
  {
   "cell_type": "code",
   "execution_count": 14,
   "id": "0ef4937b-ae75-4733-9d3c-de4542347c50",
   "metadata": {},
   "outputs": [
    {
     "name": "stdout",
     "output_type": "stream",
     "text": [
      "[1, 'grape', 3, 'apple', 'banana', True]\n"
     ]
    }
   ],
   "source": [
    "my_list = [1, 2, 3, \"apple\", \"banana\", True]\n",
    "\n",
    "my_list[1] = \"grape\"  # Updates element at index 1 to \"grape\"\n",
    "print(my_list)"
   ]
  },
  {
   "cell_type": "markdown",
   "id": "9bcca16d-e5c4-4c7c-9c4d-6eece7ac06cd",
   "metadata": {},
   "source": [
    "##### Length of a List\n",
    "- Determine the number of elements in a list using the `len()` function."
   ]
  },
  {
   "cell_type": "code",
   "execution_count": 15,
   "id": "fdd8d08b-a185-4ca1-9e6e-763dce473fad",
   "metadata": {},
   "outputs": [
    {
     "name": "stdout",
     "output_type": "stream",
     "text": [
      "6\n"
     ]
    }
   ],
   "source": [
    "list_length = len(my_list)  # Returns the number of elements in the list\n",
    "\n",
    "print(list_length)"
   ]
  },
  {
   "cell_type": "markdown",
   "id": "d6afcee8-450c-4999-aabe-cab7d7c79e68",
   "metadata": {},
   "source": [
    "##### Concatenating List\n",
    "- Combine two lists into one using the `+` operator."
   ]
  },
  {
   "cell_type": "code",
   "execution_count": 18,
   "id": "560ebdd9-a125-4d7d-b09d-72af03ead924",
   "metadata": {},
   "outputs": [
    {
     "name": "stdout",
     "output_type": "stream",
     "text": [
      "[1, 2, 3, 'apple', 'banana', True, 1, 2, 3, 4, 5]\n"
     ]
    }
   ],
   "source": [
    "my_list = [1, 2, 3, \"apple\", \"banana\", True]\n",
    "numbers = [1, 2, 3, 4, 5]\n",
    "\n",
    "combined_list = my_list + numbers\n",
    "print(combined_list)"
   ]
  },
  {
   "cell_type": "markdown",
   "id": "aa6af92e-60be-4fce-b8b6-c884567ea385",
   "metadata": {},
   "source": [
    "##### Sorting a List\n",
    "- Sort the elements of a list in ascending or descending order using the `sort()` method."
   ]
  },
  {
   "cell_type": "code",
   "execution_count": 21,
   "id": "b1305404-8d5a-4fd3-aa3a-675da67a817e",
   "metadata": {},
   "outputs": [
    {
     "name": "stdout",
     "output_type": "stream",
     "text": [
      "[1, 2, 3, 4, 5]\n",
      "[5, 4, 3, 2, 1]\n"
     ]
    }
   ],
   "source": [
    "numbers.sort()              # Sorts the list in ascending order\n",
    "print(numbers)\n",
    "\n",
    "numbers.sort(reverse=True)  # Sorts the list in descending order\n",
    "print(numbers)"
   ]
  },
  {
   "cell_type": "markdown",
   "id": "bc9f3cda-4dde-47da-be1d-742ae5309cb8",
   "metadata": {},
   "source": [
    "##### Identity and Membership Operators\n",
    "- `is`: Returns True if both operands are the same object.\n",
    "- `is not`: Returns True if both operands are not the same object.\n",
    "- `in`: Returns True if a value exists in a sequence.\n",
    "- `not in`: Returns True if a value does not exist in a sequence."
   ]
  },
  {
   "cell_type": "code",
   "execution_count": 25,
   "id": "107e0c74-a90a-4074-a9e6-901612adafc6",
   "metadata": {},
   "outputs": [
    {
     "name": "stdout",
     "output_type": "stream",
     "text": [
      "False\n",
      "True\n",
      "True\n",
      "True\n"
     ]
    }
   ],
   "source": [
    "x = [1, 2, 3]\n",
    "y = [1, 2, 3]\n",
    "\n",
    "result_is = x is y           # False\n",
    "result_is_not = x is not y   # True\n",
    "\n",
    "print(result_is)\n",
    "print(result_is_not)\n",
    "\n",
    "result_in = 2 in x           # True\n",
    "result_not_in = 4 not in x   # True\n",
    "\n",
    "print(result_in)\n",
    "print(result_not_in)"
   ]
  },
  {
   "cell_type": "markdown",
   "id": "5edaf9b7-cb3c-438f-bb6d-7f9ceaf46849",
   "metadata": {},
   "source": [
    "#### Dictionary (`dict`)\n",
    "Represents a collection of key-value pairs, where each key is associated with a value.\n",
    "\n",
    "Example:"
   ]
  },
  {
   "cell_type": "code",
   "execution_count": 28,
   "id": "322e4496-f08a-4fab-b2bd-41ff1e5658fb",
   "metadata": {},
   "outputs": [
    {
     "name": "stdout",
     "output_type": "stream",
     "text": [
      "<class 'dict'>\n"
     ]
    }
   ],
   "source": [
    "info_dict = {'name': 'Gio', 'age': 30, 'job': 'Data Scientist'}\n",
    "\n",
    "print(type(info_dict))"
   ]
  },
  {
   "cell_type": "markdown",
   "id": "0a0f25b8-9110-437e-a60f-04d6c280d552",
   "metadata": {},
   "source": [
    "#### Common Operations on Dictionary (`dict`) Data Type"
   ]
  },
  {
   "cell_type": "markdown",
   "id": "dd8ae787-38c2-48e2-8a8f-d730fc5a43c0",
   "metadata": {},
   "source": [
    "##### Creating a Dictionary\n",
    "You can create a dictionary by placing a comma-separated list of key-value pairs within curly braces `{}`."
   ]
  },
  {
   "cell_type": "code",
   "execution_count": 40,
   "id": "3c4663b5-24ac-4f42-a7f0-94b444ca050c",
   "metadata": {},
   "outputs": [
    {
     "name": "stdout",
     "output_type": "stream",
     "text": [
      "{'name': 'Gio', 'age': 30, 'job': 'Data Scientist'}\n"
     ]
    }
   ],
   "source": [
    "info_dict = {'name': 'Gio', 'age': 30, 'job': 'Data Scientist'}\n",
    "\n",
    "print(info_dict)"
   ]
  },
  {
   "cell_type": "markdown",
   "id": "67104b09-5ef8-4057-94ba-80df58f8602a",
   "metadata": {},
   "source": [
    "##### Accessing Elements\n",
    "You can access the value associated with a specific key using square brackets `[]`."
   ]
  },
  {
   "cell_type": "code",
   "execution_count": 41,
   "id": "0f8ccffa-b0db-4fe8-a516-1d092072015c",
   "metadata": {},
   "outputs": [
    {
     "name": "stdout",
     "output_type": "stream",
     "text": [
      "Gio\n"
     ]
    }
   ],
   "source": [
    "name = info_dict['name']  # Returns 'Gio'\n",
    "\n",
    "print(name)"
   ]
  },
  {
   "cell_type": "markdown",
   "id": "6c903e16-6c9a-4fbf-9632-58d1cd0dbccb",
   "metadata": {},
   "source": [
    "##### Adding or Modifying Elements\n",
    "Add or update an element by assigning a value to a key."
   ]
  },
  {
   "cell_type": "code",
   "execution_count": 42,
   "id": "e3e43a98-04a1-43af-b4c8-8b9d1af87225",
   "metadata": {},
   "outputs": [
    {
     "name": "stdout",
     "output_type": "stream",
     "text": [
      "{'name': 'Gio', 'age': 24, 'job': 'Data Scientist', 'city': 'New York'}\n"
     ]
    }
   ],
   "source": [
    "info_dict['age'] = 24  # Updates 'age' to 24\n",
    "info_dict['city'] = 'New York'  # Adds a new key 'city' with its value\n",
    "\n",
    "print(info_dict)"
   ]
  },
  {
   "cell_type": "markdown",
   "id": "adebc03e-7e3c-4303-8d78-ec464ae5382c",
   "metadata": {},
   "source": [
    "##### Removing Elements\n",
    "You can remove a key-value pair with the `del` statement or the `pop()` method."
   ]
  },
  {
   "cell_type": "code",
   "execution_count": 43,
   "id": "f6c75ea5-a745-45a0-924f-13b939efd14e",
   "metadata": {},
   "outputs": [
    {
     "name": "stdout",
     "output_type": "stream",
     "text": [
      "{'name': 'Gio', 'age': 24, 'city': 'New York'}\n",
      "{'name': 'Gio', 'city': 'New York'}\n"
     ]
    }
   ],
   "source": [
    "del info_dict['job']  # Removes the key 'job' along with its value\n",
    "print(info_dict)\n",
    "\n",
    "age = info_dict.pop('age')  # Removes 'age' and returns its value\n",
    "print(info_dict)"
   ]
  },
  {
   "cell_type": "markdown",
   "id": "789e1986-2ee5-42b5-8d77-313227a61a33",
   "metadata": {},
   "source": [
    "##### Checking if a Key Exists\n",
    "Use the `in` keyword to check if a key exists in the dictionary."
   ]
  },
  {
   "cell_type": "code",
   "execution_count": 44,
   "id": "7cd5a023-7493-4d01-b7bf-ff4f43b22cb7",
   "metadata": {},
   "outputs": [
    {
     "data": {
      "text/plain": [
       "True"
      ]
     },
     "execution_count": 44,
     "metadata": {},
     "output_type": "execute_result"
    }
   ],
   "source": [
    "'city' in my_dict  # Returns True if 'city' is a key in my_dict, else False"
   ]
  },
  {
   "cell_type": "markdown",
   "id": "847ccf9e-ea30-4345-b3c4-c2112e598b0d",
   "metadata": {},
   "source": [
    "##### Getting All Keys and Values\n",
    "You can retrieve all keys or all values as a list with `keys()` and `values()` methods."
   ]
  },
  {
   "cell_type": "code",
   "execution_count": 46,
   "id": "5a7f32bb-bf27-4aed-98f2-fdb60942c99a",
   "metadata": {},
   "outputs": [
    {
     "name": "stdout",
     "output_type": "stream",
     "text": [
      "dict_keys(['name', 'city'])\n",
      "dict_values(['Gio', 'New York'])\n"
     ]
    }
   ],
   "source": [
    "keys = info_dict.keys()  # Returns all keys in my_dict\n",
    "values = info_dict.values()  # Returns all values in my_dict\n",
    "\n",
    "print(keys)\n",
    "print(values)"
   ]
  },
  {
   "cell_type": "markdown",
   "id": "ef53d0e5-54fc-4c4b-a0d1-42b1440c4ff5",
   "metadata": {},
   "source": [
    "##### Get Method\n",
    "The `get()` method provides a way to fetch a value from a dictionary. It returns None if the key does not exist, unless a default value is specified."
   ]
  },
  {
   "cell_type": "code",
   "execution_count": 50,
   "id": "84dbe921-7214-42a7-bd91-ab8e70a4db39",
   "metadata": {},
   "outputs": [
    {
     "name": "stdout",
     "output_type": "stream",
     "text": [
      "No address provided\n"
     ]
    }
   ],
   "source": [
    "address = info_dict.get('address', 'No address provided')  # Returns 'No address provided' if 'address' key is not found\n",
    "print(address)"
   ]
  },
  {
   "cell_type": "markdown",
   "id": "eaa726c5-ab7d-4c1a-b97a-d6d9042eb33d",
   "metadata": {},
   "source": [
    "##### Iterating Through a Dictionary\n",
    "You can iterate through a dictionary using loops. The `items()` method is useful to get key-value pairs.\n"
   ]
  },
  {
   "cell_type": "code",
   "execution_count": 52,
   "id": "d5b888cf-bbcb-48f5-8f1b-34d4d72f723b",
   "metadata": {},
   "outputs": [
    {
     "name": "stdout",
     "output_type": "stream",
     "text": [
      "name Gio\n",
      "city New York\n"
     ]
    }
   ],
   "source": [
    "for key, value in info_dict.items():\n",
    "    print(key, value)"
   ]
  },
  {
   "cell_type": "markdown",
   "id": "6125c9f2-8a4d-4ca1-9295-918d0c0361ee",
   "metadata": {},
   "source": [
    "##### Copying a Dictionary\n",
    "Use the `copy()` method to make a shallow copy of a dictionary."
   ]
  },
  {
   "cell_type": "code",
   "execution_count": 54,
   "id": "b267e46c-f7e0-4f62-b8d6-d39f9d5c0448",
   "metadata": {},
   "outputs": [
    {
     "name": "stdout",
     "output_type": "stream",
     "text": [
      "New Dictionary before modification: {'name': 'Gio', 'age': 24}\n",
      "New Dictionary after adding a new value: {'name': 'Gio', 'age': 24, 'location': 'New York'}\n",
      "Original Dictionary: {'name': 'Gio', 'age': 24}\n"
     ]
    }
   ],
   "source": [
    "# Original dictionary\n",
    "info_dict = {'name': 'Gio', 'age': 24}\n",
    "\n",
    "# Creates a shallow copy of info_dict\n",
    "new_dict = info_dict.copy()\n",
    "\n",
    "# Display the newly copied dictionary before modification\n",
    "print(\"New Dictionary before modification:\", new_dict)\n",
    "\n",
    "# Adding a new key-value pair to the shallow copy\n",
    "new_dict['location'] = 'New York'\n",
    "\n",
    "# Display the new dictionary after adding a new key-value pair\n",
    "print(\"New Dictionary after adding a new value:\", new_dict)\n",
    "\n",
    "# Display the original dictionary to see if it's unaffected\n",
    "print(\"Original Dictionary:\", info_dict)\n"
   ]
  },
  {
   "cell_type": "markdown",
   "id": "14522925-46e0-48f9-bb89-c4f0852a9763",
   "metadata": {},
   "source": [
    "- `info_dict` is the original dictionary with two key-value pairs.\n",
    "- `new_dict` is a shallow copy of info_dict, created using the copy() method.\n",
    "- When you add a new key-value pair `('location': 'New York')` to `new_dict`, it does not appear in `info_dict` because adding new keys does not impact the original dictionary in a shallow copy scenario.\n",
    "- Shallow copying only links to the same objects for existing contents; new additions or completely separate allocations do not reflect back to the original dictionary."
   ]
  },
  {
   "cell_type": "code",
   "execution_count": null,
   "id": "fe6fcca6-6ad9-4b89-a4c4-d8019a59552e",
   "metadata": {},
   "outputs": [],
   "source": []
  }
 ],
 "metadata": {
  "kernelspec": {
   "display_name": "Python 3 (ipykernel)",
   "language": "python",
   "name": "python3"
  },
  "language_info": {
   "codemirror_mode": {
    "name": "ipython",
    "version": 3
   },
   "file_extension": ".py",
   "mimetype": "text/x-python",
   "name": "python",
   "nbconvert_exporter": "python",
   "pygments_lexer": "ipython3",
   "version": "3.12.2"
  }
 },
 "nbformat": 4,
 "nbformat_minor": 5
}
